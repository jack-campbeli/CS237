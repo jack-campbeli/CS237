{
 "cells": [
  {
   "cell_type": "markdown",
   "metadata": {},
   "source": [
    "# Homework 8: Programming Exercises\n",
    "\n",
    "\n"
   ]
  },
  {
   "cell_type": "markdown",
   "metadata": {},
   "source": [
    "Before you get started you might want to run the following cell (and potentially add your own import lines to it later on):"
   ]
  },
  {
   "cell_type": "code",
   "execution_count": 2,
   "metadata": {},
   "outputs": [
    {
     "ename": "ModuleNotFoundError",
     "evalue": "No module named 'numpy'",
     "output_type": "error",
     "traceback": [
      "\u001b[1;31m---------------------------------------------------------------------------\u001b[0m",
      "\u001b[1;31mModuleNotFoundError\u001b[0m                       Traceback (most recent call last)",
      "\u001b[1;32m~\\AppData\\Local\\Temp/ipykernel_12908/2330355612.py\u001b[0m in \u001b[0;36m<module>\u001b[1;34m\u001b[0m\n\u001b[1;32m----> 1\u001b[1;33m \u001b[1;32mimport\u001b[0m \u001b[0mnumpy\u001b[0m \u001b[1;32mas\u001b[0m \u001b[0mnp\u001b[0m\u001b[1;33m\u001b[0m\u001b[1;33m\u001b[0m\u001b[0m\n\u001b[0m\u001b[0;32m      2\u001b[0m \u001b[1;32mfrom\u001b[0m \u001b[0mnumpy\u001b[0m\u001b[1;33m.\u001b[0m\u001b[0mrandom\u001b[0m \u001b[1;32mimport\u001b[0m \u001b[0mrandint\u001b[0m\u001b[1;33m\u001b[0m\u001b[1;33m\u001b[0m\u001b[0m\n\u001b[0;32m      3\u001b[0m \u001b[1;32mimport\u001b[0m \u001b[0mmatplotlib\u001b[0m\u001b[1;33m.\u001b[0m\u001b[0mpyplot\u001b[0m \u001b[1;32mas\u001b[0m \u001b[0mplt\u001b[0m\u001b[1;33m\u001b[0m\u001b[1;33m\u001b[0m\u001b[0m\n",
      "\u001b[1;31mModuleNotFoundError\u001b[0m: No module named 'numpy'"
     ]
    }
   ],
   "source": [
    "import numpy as np\n",
    "from numpy.random import randint\n",
    "import matplotlib.pyplot as plt\n",
    "import random"
   ]
  },
  {
   "cell_type": "markdown",
   "metadata": {},
   "source": [
    "## Exercise 1\n",
    "Each day, around midday, a long line forms at the Warren Tower Subway. People line up to get their favorite lunch options. The time (in minutes) it takes to make and sell a sub depends on the type of order, and we model it as a real number chosen uniformly and independently at random from the interval [0,15]. For simplicity, we will assume that only one order is processed at a time, and that each order is placed in the exact moment in which the previous sub is ready. \n",
    "\n",
    "Let $X$ be the random variable equal to the number of people that place an order in 15 minutes.\n",
    "\n",
    "<b>Example:</b> If the first person's sub takes 4.3 minutes to make, the second person's sub takes 7.7 minutes, and the third person's sub takes 4.475 minutes, then $X = 3$ (even if the third person's sub is not done in the 15 minute window)."
   ]
  },
  {
   "cell_type": "markdown",
   "metadata": {},
   "source": [
    "Write a function that empirically estimates $\\mathrm{Ex}(X)$. Use a sufficiently large number of trials (e.g., 10000) and have your function return the estimated value."
   ]
  },
  {
   "cell_type": "code",
<<<<<<< HEAD
   "execution_count": null,
   "metadata": {},
=======
   "execution_count": 19,
   "metadata": {
    "scrolled": true
   },
>>>>>>> f67315354c15d2ed60bf8e6a6745323bfcf98a8c
   "outputs": [
    {
     "name": "stdout",
     "output_type": "stream",
     "text": [
      "2.7118\n"
     ]
    }
   ],
   "source": [
    "# Your solution here\n",
    "def estimate_expected_orders(num_trials=10000):\n",
    "    orders = 0\n",
    "    for i in range(num_trials):\n",
    "        time = 0\n",
    "        while (time < 15):\n",
    "            time += random.uniform(0,15)\n",
    "            orders += 1\n",
    "    return orders/10000\n",
    "\n",
    "print(estimate_expected_orders())"
   ]
  },
  {
   "cell_type": "markdown",
   "metadata": {},
   "source": [
    "## Exercise 2\n",
    "\n",
    "You invest in a stock originally worth $\\$ 0$. The value of the stock goes up or down by exactly $\\$ 1$ each day with equal probability, potentially going in the negatives. Let $S_i$ be the value of the stock on day $i$. We track the value of the stock for a year (365 days). Note that at the end of the year, the value $S_{365}$ is some integer number between -365 and 365.\n",
    "\n",
    "Let $P$ be the number of days $i$ in which $S_i >0$. Note that $P$ is some integer between 0 and 365.\n",
    "\n",
    "<b>Think:</b> what do you think the distribution of $P$ looks like?\n",
    "\n",
    "In this exercise we will answer this question via simulation."
   ]
  },
  {
   "cell_type": "markdown",
   "metadata": {},
   "source": [
    "### Exercise 2(a)\n",
    "Write a function that gives you the increment in stock value in a day."
   ]
  },
  {
   "cell_type": "code",
   "execution_count": null,
   "metadata": {},
   "outputs": [],
   "source": [
    "# Your code here\n",
    "\n",
    "def one_day_stock_increase():\n",
    "    # returns +/- 1 with probability 1/2\n",
    "    output = -1\n",
    "    if (random.randint(0,1)):\n",
    "        output = 1\n",
    "    return output"
   ]
  },
  {
   "cell_type": "markdown",
   "metadata": {},
   "source": [
    "### Exercise 2(b)\n",
    "\n",
    "Write a function that keeps track of the value $S_i$ of the stock every day for one year, and counts the number of days in which $S_i$ is positive."
   ]
  },
  {
   "cell_type": "code",
   "execution_count": null,
   "metadata": {},
   "outputs": [],
   "source": [
    "# Your code here\n",
    "\n",
    "def number_of_positive_days_in_year():\n",
    "    # Simulates the stock value for a year by calling the above function 365 times \n",
    "    # and adding the new change each time.\n",
    "    # Counts and returns the value of P, the number of days in which the stock value is positive.\n",
    "    stock = 0\n",
    "    positive_days = 0\n",
    "    for i in range(365):\n",
    "        stock += one_day_stock_increase()\n",
    "        if (stock > 0):\n",
    "            positive_days += 1\n",
    "    return positive_days"
   ]
  },
  {
   "cell_type": "markdown",
   "metadata": {},
   "source": [
    "### Exercise 2(c)\n",
    "\n",
    "Estimate the PDF of $P$ by running the above function multiple times and plotting the histogram of results. The code for plotting is provided for you below."
   ]
  },
  {
   "cell_type": "code",
   "execution_count": null,
   "metadata": {},
   "outputs": [],
   "source": [
    "# helper function to plot the empirical distribution as a bar chart\n",
    "# here we are only displaying a subset of the x-labels\n",
    "#   since otherwise the x-labels would not be readable\n",
    "\n",
    "from collections import Counter\n",
    "\n",
    "def plot_results(results, title, num_labels = 10):\n",
    "    summary = Counter(results)\n",
    "    x = [i for i in range(min(results),max(results)+1) if summary[i] != 0]\n",
    "    y = [summary[i]/ len(results) for i in x]\n",
    "    \n",
    "    # the xvalues are displayed at positions 0, 1, 2, ...\n",
    "    plt.bar(np.arange(len(x)), y, align='center')\n",
    "    \n",
    "    # display a small number of x-labels\n",
    "    xinc = (int) (len(x) / num_labels)\n",
    "    xcoords = [i * xinc for i in range(num_labels) if i * xinc < len(x) - 1]\n",
    "    xcoords.append(len(x) - 1) # also add the maximum value\n",
    "    xlabels = [x[i] for i in xcoords]\n",
    "    \n",
    "    plt.xticks(xcoords, xlabels)\n",
    "    plt.title(title)\n",
    "    plt.show()"
   ]
  },
  {
   "cell_type": "code",
   "execution_count": null,
   "metadata": {},
   "outputs": [],
   "source": [
    "# Your code here\n",
    "\n",
    "def estimate_P(num_trials=10000):\n",
    "    # runs the above function num_trials times and plots the histogram of results\n",
    "    input = []\n",
    "    for i in range(10000):\n",
    "        input.append(number_of_positive_days_in_year())\n",
    "    plot_results(input, \"Test\")"
   ]
  },
  {
   "cell_type": "markdown",
   "metadata": {},
   "source": [
    "<b>Think:</b> Was this the result you expected?"
   ]
  },
  {
   "cell_type": "code",
   "execution_count": 7,
   "metadata": {},
   "outputs": [
    {
     "data": {
      "image/png": "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\n",
      "text/plain": [
       "<Figure size 432x288 with 1 Axes>"
      ]
     },
     "metadata": {
      "needs_background": "light"
     },
     "output_type": "display_data"
    }
   ],
   "source": [
    "estimate_P()"
   ]
  }
 ],
 "metadata": {
  "interpreter": {
   "hash": "227483544e21d21530aad397e213da3ea0474c1a3162f2cb47f6636053c915ff"
  },
  "kernelspec": {
   "display_name": "Python 3.9.8 64-bit",
   "name": "python3"
  },
  "language_info": {
   "codemirror_mode": {
    "name": "ipython",
    "version": 3
   },
   "file_extension": ".py",
   "mimetype": "text/x-python",
   "name": "python",
   "nbconvert_exporter": "python",
   "pygments_lexer": "ipython3",
   "version": "3.9.8"
  }
 },
 "nbformat": 4,
 "nbformat_minor": 2
}
