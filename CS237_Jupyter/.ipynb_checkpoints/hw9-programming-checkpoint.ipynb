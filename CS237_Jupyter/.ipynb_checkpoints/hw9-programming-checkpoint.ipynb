{
 "cells": [
  {
   "cell_type": "markdown",
   "metadata": {},
   "source": [
    "# Homework 9: Programming Exercises"
   ]
  },
  {
   "cell_type": "markdown",
   "metadata": {},
   "source": [
    "Before you get started you might want to run the following cell (and potentially add your own import lines to it later on):"
   ]
  },
  {
   "cell_type": "code",
   "execution_count": 1,
   "metadata": {},
   "outputs": [],
   "source": [
    "import numpy as np\n",
    "from numpy.random import randint\n",
    "import matplotlib.pyplot as plt\n",
    "import math\n",
    "import random"
   ]
  },
  {
   "cell_type": "markdown",
   "metadata": {},
   "source": [
    "This question is about an experiment we did in the first lecture. We have seen that the following code estimates the answer to the question:\n",
    "\n",
    "> We roll a fair die repeatedly until we roll a 6. How many rolls do we expect given than all the rolls gave even numbers?"
   ]
  },
  {
   "cell_type": "code",
   "execution_count": 2,
   "metadata": {},
   "outputs": [],
   "source": [
    "def single_trial():\n",
    "    num_rolls = 0\n",
    "    while True:\n",
    "        num_rolls = num_rolls + 1\n",
    "        die_roll = randint(1, 7) # fair die roll\n",
    "        if die_roll == 1 or die_roll == 3 or die_roll == 5:\n",
    "            # restart the experiment\n",
    "            num_rolls = 0\n",
    "            continue\n",
    "        if die_roll == 6:\n",
    "            break\n",
    "    return num_rolls\n",
    "\n",
    "# use 10000 trials\n",
    "def estimate_expected_rolls(num_trials = 10000):\n",
    "    total = 0.0\n",
    "    for i in range(num_trials):\n",
    "        total += single_trial()\n",
    "    \n",
    "    return (total / num_trials)"
   ]
  },
  {
   "cell_type": "code",
   "execution_count": 3,
   "metadata": {},
   "outputs": [
    {
     "name": "stdout",
     "output_type": "stream",
     "text": [
      "1.4998\n"
     ]
    }
   ],
   "source": [
    "print(estimate_expected_rolls())"
   ]
  },
  {
   "cell_type": "markdown",
   "metadata": {},
   "source": [
    "You now know that the above question is asking for the conditional expectation of the number of die rolls until we roll a 6, conditioned on the event that all of the rolls are 2, 4, or 6.\n",
    "\n",
    "Consider the following modified version of the above question and experiment. Instead of a fair $6$-sided die, we now have a fair $k$-sided die with the numbers $1$ through $k$ written on it. The question we are interested in is the following:\n",
    "\n",
    "> What is the expected number of rolls of the $k$-sided die until we roll a $6$, given that all the rolls are 2, 4, or 6?"
   ]
  },
  {
   "cell_type": "markdown",
   "metadata": {},
   "source": [
    "### Exercise 1a\n",
    "\n",
    "Write a function that takes as input an integer $k \\geq 6$ and it returns an estimate of the expected number of rolls of the $k$-sided die until we roll a 6, given that all the results are 2, 4, or 6."
   ]
  },
  {
   "cell_type": "code",
   "execution_count": 4,
   "metadata": {},
   "outputs": [
    {
     "name": "stdout",
     "output_type": "stream",
     "text": [
      "1.4893\n"
     ]
    }
   ],
   "source": [
    "def single_trial_k(k):\n",
    "    if (k >= 6):\n",
    "        result = 0\n",
    "        while True:\n",
    "            result = result + 1\n",
    "            die_roll = randint(1, k+1) # fair die roll\n",
    "            if die_roll != 2 and die_roll != 4 and die_roll != 6:\n",
    "                # restart the experiment\n",
    "                result = 0\n",
    "                continue\n",
    "            if die_roll == 6:\n",
    "                break\n",
    "        return result\n",
    "        \n",
    "# use 10000 trials\n",
    "def estimate_expected_rolls_k(num_trials = 10000, k = 6):\n",
    "    result = 0;\n",
    "    for i in range(10000):\n",
    "        result += single_trial_k(k)\n",
    "    return result/num_trials\n",
    "\n",
    "print(estimate_expected_rolls_k())"
   ]
  },
  {
   "cell_type": "markdown",
   "metadata": {},
   "source": [
    "### Exercise 1b\n",
    "\n",
    "Next, pick some large values of $k$ and time your code."
   ]
  },
  {
   "cell_type": "code",
   "execution_count": 5,
   "metadata": {},
   "outputs": [
    {
     "name": "stdout",
     "output_type": "stream",
     "text": [
      "estimate for k=7:  1.401\n",
      "runtime:  0.2239316\n",
      "\n",
      "estimate for k=10:  1.2496\n",
      "runtime:  0.3235703000000001\n",
      "\n",
      "estimate for k=33:  1.0682\n",
      "runtime:  1.0133733999999999\n",
      "\n",
      "estimate for k=50:  1.0396\n",
      "runtime:  1.5808979000000005\n",
      "\n"
     ]
    }
   ],
   "source": [
    "import timeit\n",
    "\n",
    "start = timeit.default_timer()\n",
    "print('estimate for k=7: ', estimate_expected_rolls_k(k = 7))\n",
    "stop = timeit.default_timer()\n",
    "print('runtime: ', stop - start)  \n",
    "print()\n",
    "\n",
    "start = timeit.default_timer()\n",
    "print('estimate for k=10: ', estimate_expected_rolls_k(k = 10))\n",
    "stop = timeit.default_timer()\n",
    "print('runtime: ', stop - start)  \n",
    "print()\n",
    "\n",
    "start = timeit.default_timer()\n",
    "print('estimate for k=33: ', estimate_expected_rolls_k(k = 33))\n",
    "stop = timeit.default_timer()\n",
    "print('runtime: ', stop - start)  \n",
    "print()\n",
    "\n",
    "start = timeit.default_timer()\n",
    "print('estimate for k=50: ', estimate_expected_rolls_k(k = 50))\n",
    "stop = timeit.default_timer()\n",
    "print('runtime: ', stop - start)\n",
    "print()\n",
    "\n",
    "pass\n"
   ]
  },
  {
   "cell_type": "markdown",
   "metadata": {},
   "source": [
    "### Exercise 1c\n",
    "\n",
    "What do you think happens as $k\\to \\infty$?"
   ]
  },
  {
   "cell_type": "markdown",
   "metadata": {},
   "source": [
    "<b>Answer:</b> "
   ]
  },
  {
   "cell_type": "code",
   "execution_count": 6,
   "metadata": {},
   "outputs": [],
   "source": [
    "## As 'k' goes to infinity, the estimated number of rolls to get to six will approach one. Because we are\n",
    "## 'forgetting' past rolls that are not 2, 4, or 6. The number of counted rolls grows closer to one as the \n",
    "## number of sides of the die increases."
   ]
  },
  {
   "cell_type": "markdown",
   "metadata": {},
   "source": [
    "## Exercise 2a\n",
    "In this exercise, you will simulate throwing darts at a dartboard at random.  Recall the method for sampling from a disk of radius 1 (Lecture 5, Slide 19).  Let $D$ be the distance from the center of the dartboard (0,0) to the point sampled from the disk.  Average the results of 10,000 samples to give an empirical estimate of Ex$[D]$."
   ]
  },
  {
   "cell_type": "code",
   "execution_count": 10,
   "metadata": {},
   "outputs": [
    {
     "name": "stdout",
     "output_type": "stream",
     "text": [
      "0.6626853689666523\n"
     ]
    }
   ],
   "source": [
    "def uniform_rectangle(a,b,c,d):\n",
    "    x = random.uniform(a,b)\n",
    "    y = random.uniform(c,d)\n",
    "    return (x,y)\n",
    "\n",
    "def uniform_dartboard():\n",
    "    result = 0;\n",
    "    for i in range(10000):\n",
    "        cont = True\n",
    "        while cont:\n",
    "            (x,y) = uniform_rectangle(-1, 1, -1, 1)\n",
    "            if x**2 + y**2 <= 1:\n",
    "                result += math.sqrt(x**2 + y**2)\n",
    "                cont = False\n",
    "    return result/10000\n",
    "\n",
    "print(uniform_dartboard())"
   ]
  },
  {
   "cell_type": "markdown",
   "metadata": {},
   "source": [
    "## Exercise 2b\n",
    "Observe that the area of the dartboard is $\\pi \\cdot 1^2 = \\pi$ and the area of the square around the dartboard is $2^2 = 4$.  Use the ratio of hits and misses from (2a) to give an estimate for $\\pi$."
   ]
  },
  {
   "cell_type": "code",
   "execution_count": 12,
   "metadata": {},
   "outputs": [
    {
     "name": "stdout",
     "output_type": "stream",
     "text": [
      "3.589261128958238\n"
     ]
    }
   ],
   "source": [
    "def estimate_pi():\n",
    "    hit = 0\n",
    "    miss = 0\n",
    "    for i in range(10000):\n",
    "            (x,y) = uniform_rectangle(-1, 1, -1, 1)\n",
    "            if x**2 + y**2 <= 1:\n",
    "                hit += 1\n",
    "            else:\n",
    "                miss += 1\n",
    "    return hit/miss\n",
    "\n",
    "print(estimate_pi())"
   ]
  },
  {
   "cell_type": "markdown",
   "metadata": {},
   "source": [
    "### Exercise 2c\n",
    "The simulation method in (2a) wastes some randomness, as samples outside the disk are discarded.  Implement an alternative (discard-free) method for throwing darts at random by picking a random angle $\\Theta$ between (0, 360) degrees and a Distance d from the CDF for $D$ as set up for you below, then translating that into x- and y-coordinates (which we can think of as random variables $X$ and $Y$).  Print Ex$[X]$, Ex$[Y]$, and Ex$[D]$ to verify that your samples turned out as expected. "
   ]
  },
  {
   "cell_type": "code",
   "execution_count": 8,
   "metadata": {},
   "outputs": [],
   "source": [
    "#  Sample from D using inverse transform sampling:  https://en.wikipedia.org/wiki/Inverse_transform_sampling\n",
    "#  CDF of D:  x^2                   for x in [0, 1], see lecture notes\n",
    "#  Inverse-CDF of D: \\sqrt(x)       for x in [0, 1]\n",
    "#\n",
    "def inverse_cdf_of_D (x):\n",
    "    return math.sqrt(x)\n",
    "\n",
    "def D ():\n",
    "    uniform_random_sample = random.random()\n",
    "    return inverse_cdf_of_D(uniform_random_sample)\n",
    "\n",
    "samples = [D() for i in range(10000)]\n",
    "\n",
    "# Uncomment lines below to see plot\n",
    "#plt.hist(samples, bins=50)\n",
    "#plt.show()"
   ]
  },
  {
   "cell_type": "code",
   "execution_count": null,
   "metadata": {},
   "outputs": [],
   "source": []
  },
  {
   "cell_type": "code",
   "execution_count": null,
   "metadata": {},
   "outputs": [],
   "source": []
  }
 ],
 "metadata": {
  "kernelspec": {
   "display_name": "Python 3",
   "language": "python",
   "name": "python3"
  },
  "language_info": {
   "codemirror_mode": {
    "name": "ipython",
    "version": 3
   },
   "file_extension": ".py",
   "mimetype": "text/x-python",
   "name": "python",
   "nbconvert_exporter": "python",
   "pygments_lexer": "ipython3",
   "version": "3.8.8"
  }
 },
 "nbformat": 4,
 "nbformat_minor": 4
}
