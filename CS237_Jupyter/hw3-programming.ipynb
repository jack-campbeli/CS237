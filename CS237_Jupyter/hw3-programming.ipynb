{
 "cells": [
  {
   "cell_type": "markdown",
   "metadata": {},
   "source": [
    "# CS 237: Homework 3 Programming Exercises"
   ]
  },
  {
   "cell_type": "code",
   "execution_count": 4,
   "metadata": {},
   "outputs": [],
   "source": [
    "# add your imports here\n",
    "\n",
    "# here are some examples of imports\n",
    "import matplotlib.pyplot as plt   # for plotting\n",
    "from numpy.random import randint # for simulating random choices\n",
    "from collections import Counter # for aggregating the results"
   ]
  },
  {
   "cell_type": "markdown",
   "metadata": {},
   "source": [
    "In the following exercises, we will use simulation to estimate the probability of certain events. Write the code to perform the simulation and print the result. Use 10,000 trials in each case. Please note that, for exercise 2, you need to answer both the code and the explanation. "
   ]
  },
  {
   "cell_type": "markdown",
   "metadata": {},
   "source": [
    "## Exercise 1: Simulation of the Chevalier's bets\n",
    "\n",
    "In this exercise, consider the Chevalier de Mere's dice bets from lecture. Use simulation to estimate the probabilities of winning each bet, i.e., the probabilities of the following events:\n",
    "\n",
    "- A = \"a 6 turns up when rolling a die 4 times\"\n",
    "- B = \"a pair of 6s turns up when rolling two dice 24 times\"\n",
    "\n",
    "Print the estimated probabilities. Are your estimates close to the probabilities we calculated in class?"
   ]
  },
  {
   "cell_type": "code",
   "execution_count": 5,
   "metadata": {},
   "outputs": [],
   "source": [
    "# your code here"
   ]
  },
  {
   "cell_type": "markdown",
   "metadata": {},
   "source": [
    "## Exercise 2: Sums of 3 dice\n",
    "\n",
    "In this exercise, we consider another dice betting experiment that puzzled gamblers in the 1600s. Consider the experiment of rolling three dice. We are interested in the following two events: \n",
    "\n",
    "- A = \"The sum of numbers obtained is 9\"\n",
    "- B = \"The sum of the numbers obtained is 10\"\n",
    "\n",
    "Use simulation to estimate the probabilities of the two events. Print the estimated probabilities. According to your simulation, which event is more likely?"
   ]
  },
  {
   "cell_type": "code",
   "execution_count": 6,
   "metadata": {},
   "outputs": [],
   "source": [
    "# your code here"
   ]
  },
  {
   "cell_type": "markdown",
   "metadata": {},
   "source": [
    "The experience of gamblers in the 1600s had been that A is less likely than B. This empirical result puzzled the gamblers for the following reason. They counted the number of triples of integers from 1 to 6 with sum 9 and found it to be the same as the number of triples with sum 10. Can you explain this apparent discrepancy?"
   ]
  },
  {
   "cell_type": "markdown",
   "metadata": {},
   "source": [
    "**Your explanation here:** "
   ]
  }
 ],
 "metadata": {
  "kernelspec": {
   "display_name": "Python 3",
   "language": "python",
   "name": "python3"
  },
  "language_info": {
   "codemirror_mode": {
    "name": "ipython",
    "version": 3
   },
   "file_extension": ".py",
   "mimetype": "text/x-python",
   "name": "python",
   "nbconvert_exporter": "python",
   "pygments_lexer": "ipython3",
   "version": "3.7.7"
  }
 },
 "nbformat": 4,
 "nbformat_minor": 2
}
