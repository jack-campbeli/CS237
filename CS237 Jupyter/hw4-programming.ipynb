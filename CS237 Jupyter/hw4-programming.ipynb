{
 "cells": [
  {
   "cell_type": "markdown",
   "metadata": {},
   "source": [
    "# CS 237: Homework 4 Programming Exercises"
   ]
  },
  {
   "cell_type": "code",
   "execution_count": 1,
   "metadata": {},
   "outputs": [],
   "source": [
    "# add your imports here\n",
    "\n",
    "# here are some examples of imports\n",
    "import matplotlib.pyplot as plt   # for plotting\n",
    "import numpy as np                # for simulating random choices\n",
    "from collections import Counter   # for aggregating the results"
   ]
  },
  {
   "cell_type": "markdown",
   "metadata": {},
   "source": [
    "In the following exercises, we will run simulations of a recommender system that recommends movies to users, as we discussed in class on 9/23, and in this Piazza post: https://piazza.com/class/ksg5aj427qney?cid=126"
   ]
  },
  {
   "cell_type": "markdown",
   "metadata": {},
   "source": [
    "## Step 1: Baseline Movie Ratings\n",
    "\n",
    "We will start by generating baseline star-ratings to movies.  We assume there are $k$ movies in the system, and their ratings are distributed uniformly between 1.0 stars (terrible) and 5.0 stars (awesome)."
   ]
  },
  {
   "cell_type": "code",
   "execution_count": 2,
   "metadata": {},
   "outputs": [
    {
     "name": "stdout",
     "output_type": "stream",
     "text": [
      "[1.98975949 2.44588454 1.61562674 ... 1.74720425 4.30222897 3.88257302]\n"
     ]
    }
   ],
   "source": [
    "k = 10000\n",
    "movies = np.random.uniform(1.0, 5.0, k)\n",
    "print (movies)"
   ]
  },
  {
   "cell_type": "markdown",
   "metadata": {},
   "source": [
    "## Exercise 1: Simulating User Populations\n",
    "\n",
    "In this exercise, we ask you to now simulate ratings from two user different populations.  \n",
    "\n",
    "User population 1 consists of random movie-watchers.  They pick movies completely at random, without regard to the underlying rating. After watching movie $i$ with rating $r_i$, they then generate a user rating\n",
    "\n",
    "$u = r_i+ \\delta$\n",
    "\n",
    "where $\\delta$ is uniform on [-1.0, 1.0]\n",
    "\n",
    "and constrain that rating to be in the valid range [1.0, 5.0]\n",
    "\n",
    "$$u = \\max (1.0, u) \\textit{   # round up to 1.0 if needed} $$\n",
    "$$u = \\min (5.0, u) \\textit{   # round down to 5.0 if needed} $$\n",
    "\n",
    "A rating is recorded as the tuple $(i, u)$.\n",
    "\n",
    "Produce a list of 50,000 ratings produced by user population 1 and report the average rating the users generated as average1. \n",
    "\n",
    "====================\n",
    "\n",
    "User population 2 consists of more discriminating users.  They choose movies proportionally to the underlying rating using the following selection probabilities:\n",
    "\n",
    "$$\\Pr[\\text{Select movie } i]  = \\frac{r_i} {\\sum_j {r_j}}$$ \n",
    "\n",
    "They then generate a user rating using the same method as user population 1, except their $\\delta$ is uniform on [-0.5, 0.5]. \n",
    "\n",
    "Produce a list of 50,000 ratings produced by user population 2 and report the average rating the users generated as average2. \n",
    "\n",
    "[Hint:  Implementation time-saver:  consider using the numpy function random.choice() to implement selections for User population 2]\n"
   ]
  },
  {
   "cell_type": "code",
   "execution_count": 3,
   "metadata": {
    "scrolled": true,
    "tags": []
   },
   "outputs": [],
   "source": [
    "#  Your code here to compute average1 and average2\n",
    "average1 = 0\n",
    "average2 = 0\n",
    "ratings = 50000\n",
    "population1 = []\n",
    "population2 = []\n",
    "\n",
    "## Population 1\n",
    "for i in range(ratings):\n",
    "    movie_num = np.random.choice(movies)\n",
    "    rating = np.random.uniform(-1.0, 1.0) \n",
    "    user_rating = movie_num + rating\n",
    "    user_rating = max(1.0, user_rating)\n",
    "    user_rating = min(5.0, user_rating)\n",
    "    population1.append((movie_num, user_rating))\n",
    "    average1 += user_rating / ratings   \n",
    "        \n",
    "# print(population1)\n",
    "\n",
    "## Population 2\n",
    "movie_ratings_sum = sum(movies)\n",
    "movie_prob = []\n",
    "for i in movies:\n",
    "    movie_prob.append(i/movie_ratings_sum)\n",
    "\n",
    "for i in range(ratings):\n",
    "    movie_num = np.random.choice(movies, size = None, p = movie_prob)\n",
    "    rating = np.random.uniform(-0.5, 0.5) \n",
    "    user_rating = movie_num + rating\n",
    "    user_rating = max(1.0, user_rating)\n",
    "    user_rating = min(5.0, user_rating)\n",
    "    population2.append((movie_num, user_rating))\n",
    "    average2 += user_rating / ratings \n",
    "\n",
    "# print(population2)"
   ]
  },
  {
   "cell_type": "code",
   "execution_count": 4,
   "metadata": {},
   "outputs": [
    {
     "name": "stdout",
     "output_type": "stream",
     "text": [
      "2.9944452988742007 3.4336412408304513\n"
     ]
    }
   ],
   "source": [
    "#  Please execute this next line by un-commenting it:\n",
    "print(average1, average2)"
   ]
  },
  {
   "cell_type": "markdown",
   "metadata": {},
   "source": [
    "## Exercise 2: Basic Predictions\n",
    "\n",
    "In this exercise, we ask you to now assess prediction error from different models.  When a user watches a movie $i$ (with rating $r_i$), each model will make a prediction $p$ and the user will provide a rating $u$.\n",
    "\n",
    "Model A only knows about users:  it makes a conservative prediction of $p = 3.0$ for any movie watched by user population 1 and $p = 4.0$ for any movie watched by user population 2.  \n",
    "\n",
    "Model B only knows about movies:  it predicts a value of $p = r_i$ whenever movie $i$ is watched (by any user). \n",
    "\n",
    "Simulate the two models on 50,000 trials of the following form.\n",
    "\n",
    "  - choose a user type uniformly at random between Population 1 and Population 2 (50/50)\n",
    "  - choose a movie at random following that user population's selection method\n",
    "  - compute a predicted rating $p_A$ made by model A\n",
    "  - compute a predicted rating $p_B$ made by model B\n",
    "  - compute a rating $u$ the user generates for that movie\n",
    "  \n",
    "Store the outcomes of all the trials in a list, where the outcome of a trial as a 4-tuple:  (movieID, $u, p_A, p_B$).\n",
    "  \n",
    "\n",
    "Finally, assess the models on how much error it made over all predictions.  For this assignment we'll consider the the mean squared error (MSE).\n",
    "The model error for one trial (for model A) is defined to be $\\epsilon = p_A - u$ and the squared error for one trial is $\\epsilon^2$.  The mean squared error over all trials (for model A) is the average of all 50,000 squared errors $\\epsilon^2$. \n",
    "\n",
    "Compute and report the MSE for Model A and similarly, for Model B.\n",
    "\n",
    "\n"
   ]
  },
  {
   "cell_type": "code",
   "execution_count": 10,
   "metadata": {},
   "outputs": [],
   "source": [
    "#  Your code here to run the 50,000 trials and compute MSE_A and MSE_B\n",
    "\n",
    "question2 = []\n",
    "MSE_A_L = []\n",
    "MSE_B_L = []\n",
    "MSE_A = 0\n",
    "MSE_B = 0\n",
    "\n",
    "for i in range(50000):\n",
    "    \n",
    "    prediction_A = 0\n",
    "    prediction_B = 0\n",
    "    MSE_A = 0\n",
    "    MSE_B = 0\n",
    "    ## selecting user\n",
    "    user = np.random.choice((0, 1))\n",
    "\n",
    "    if user == 0: ## POPULATION 1\n",
    "        ## MODEL A\n",
    "        prediction_A = 3.0 \n",
    "        ## MODEL B\n",
    "        movie_num = np.random.choice(movies)  \n",
    "        prediction_B = movie_num\n",
    "        ## USER RATING\n",
    "        rating = np.random.uniform(-1.0, 1.0) \n",
    "        user_rating = movie_num + rating\n",
    "    elif user == 1: ## POPULATION 2\n",
    "        ## MODEL A\n",
    "        prediction_A = 4.0 \n",
    "        ## MODEL B\n",
    "        movie_num = np.random.choice(movies, size=None, p=movie_prob)  \n",
    "        prediction_B = movie_num\n",
    "        ## USER RATING\n",
    "        rating = np.random.uniform(-0.5, 0.5) \n",
    "        user_rating = movie_num + rating\n",
    "    ## BOUNDING USER RATING\n",
    "    user_rating = max(1.0, user_rating)\n",
    "    user_rating = min(5.0, user_rating)\n",
    "    MSE_A = prediction_A - user_rating \n",
    "    MSE_B = prediction_B - user_rating\n",
    "    MSE_A *= MSE_A\n",
    "    MSE_B *= MSE_B\n",
    "    \n",
    "    question2.append((movie_num, user_rating, prediction_A, prediction_B))\n",
    "    MSE_A_L.append(MSE_A)\n",
    "    MSE_B_L.append(MSE_B)\n",
    "\n",
    "MSE_A = sum(MSE_A_L) / 50000\n",
    "MSE_B = sum(MSE_B_L) / 50000\n",
    "# print(question2)\n",
    "# print(user)"
   ]
  },
  {
   "cell_type": "code",
   "execution_count": 11,
   "metadata": {
    "scrolled": true
   },
   "outputs": [
    {
     "name": "stdout",
     "output_type": "stream",
     "text": [
      "1.4826318245626846 0.18601917532418996\n"
     ]
    }
   ],
   "source": [
    "#  Please execute this next line by un-commenting it:\n",
    "print(MSE_A, MSE_B)"
   ]
  },
  {
   "cell_type": "markdown",
   "metadata": {},
   "source": [
    "## Exercise 3: Can you do better?\n",
    "\n",
    "Based on your experiments in parts 1 and 2, can you make simple changes to improve upon the existing models?\n",
    "\n",
    "Improve model A just by changing the hard-wired prediction values $p_1 = 3.0$ and/or $p_2 = 4.0$.  Print the new settings for $p_1$ and $p_2$ and print the MSE for this new Model C.\n",
    "\n",
    "It's harder to improve upon model B.  Tell us why in a couple of sentences.\n",
    "Alternatively, impress us by showing that it is possible to do a little better than just predicting $r_i$.\n",
    "\n",
    "\n"
   ]
  },
  {
   "cell_type": "code",
   "execution_count": 7,
   "metadata": {},
   "outputs": [
    {
     "name": "stdout",
     "output_type": "stream",
     "text": [
      "3.0120812054168455 3.449748787093291 1.325960745537057\n"
     ]
    }
   ],
   "source": [
    "#  Your code here to run the 50,000 trials and compute MSE_A and MSE_B\n",
    "\n",
    "MSE_C_L = []\n",
    "MSE_C = 0\n",
    "p_1 = 0\n",
    "p_2 = 0\n",
    "\n",
    "for i in range(50000):\n",
    "    \n",
    "\n",
    "    MSE_C = 0\n",
    "    ## selecting user\n",
    "    user = np.random.choice((0, 1))\n",
    "\n",
    "    if user == 0: ## POPULATION 1\n",
    "        ## MODEL A\n",
    "        p_1 = 3.0120812054168455 \n",
    "        ## USER RATING\n",
    "        rating = np.random.uniform(-1.0, 1.0) \n",
    "        movie_num = np.random.choice(movies)  \n",
    "        user_rating = movie_num + rating\n",
    "        user_rating = max(1.0, user_rating)\n",
    "        user_rating = min(5.0, user_rating)\n",
    "        MSE_C = p_1 - user_rating\n",
    "    elif user == 1: ## POPULATION 2\n",
    "        ## MODEL A\n",
    "        p_2 = 3.449748787093291\n",
    "        ## USER RATING\n",
    "        rating = np.random.uniform(-0.5, 0.5)\n",
    "        movie_num = np.random.choice(movies, size=None, p=movie_prob) \n",
    "        user_rating = movie_num + rating\n",
    "        user_rating = max(1.0, user_rating)\n",
    "        user_rating = min(5.0, user_rating)\n",
    "        MSE_C = p_2 - user_rating\n",
    "    ## GETTING MSE\n",
    "    MSE_C *= MSE_C \n",
    "    MSE_C_L.append(MSE_C)\n",
    "\n",
    "MSE_C = sum(MSE_C_L) / 50000\n",
    "# print(question2)\n",
    "# print(user)\n",
    "\n",
    "#  Please execute this next line by un-commenting it:\n",
    "print(p_1, p_2, MSE_C)"
   ]
  },
  {
   "cell_type": "code",
   "execution_count": 8,
   "metadata": {
    "tags": []
   },
   "outputs": [],
   "source": [
    "#  Your 1-2 answer below for why it's hard to improve much on Model B, or, code for how you did it.\n",
    "\n",
    "#  It is hard to improve a model such as Model B because the prediction is already pretty accurate \n",
    "#  given it is based on the movies current rating. It is hard to improve because the user rating is\n",
    "#  completely random and unpredictable, so there will always be a little error. That is where the error occurs.\n",
    "#\n"
   ]
  },
  {
   "cell_type": "code",
   "execution_count": null,
   "metadata": {},
   "outputs": [],
   "source": []
  }
 ],
 "metadata": {
  "kernelspec": {
   "display_name": "Python 3",
   "language": "python",
   "name": "python3"
  },
  "language_info": {
   "codemirror_mode": {
    "name": "ipython",
    "version": 3
   },
   "file_extension": ".py",
   "mimetype": "text/x-python",
   "name": "python",
   "nbconvert_exporter": "python",
   "pygments_lexer": "ipython3",
   "version": "3.8.8"
  }
 },
 "nbformat": 4,
 "nbformat_minor": 4
}
